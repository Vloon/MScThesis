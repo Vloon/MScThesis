{
 "cells": [
  {
   "cell_type": "markdown",
   "id": "ce20a2ee",
   "metadata": {},
   "source": [
    "This file runs the Bayesian model comparison between the two binary and two continuous models, and shows which latent space geometry is preferred."
   ]
  },
  {
   "cell_type": "code",
   "execution_count": 93,
   "id": "8e992039",
   "metadata": {},
   "outputs": [],
   "source": [
    "import numpy as np\n",
    "from decimal import Decimal"
   ]
  },
  {
   "cell_type": "code",
   "execution_count": 94,
   "id": "34a1bf08",
   "metadata": {},
   "outputs": [],
   "source": [
    "folder = os.path.join(os.getcwd(),'BayesianModelComparison')"
   ]
  },
  {
   "cell_type": "code",
   "execution_count": 95,
   "id": "5cfdc42a",
   "metadata": {},
   "outputs": [],
   "source": [
    "n_subjects = 100\n",
    "edge_types = ['bin', 'con']\n",
    "geometries = ['euc', 'hyp']\n",
    "tasks = ['REST1', 'REST2','EMOTION','GAMBLING','LANGUAGE','MOTOR','RELATIONAL','SOCIAL','WM']"
   ]
  },
  {
   "cell_type": "markdown",
   "id": "5facb2b9",
   "metadata": {},
   "source": [
    "During embedding, we save information to a log file saying  \n",
    "_\"S1 task EMOTION has been embedded in x iterations with lml=.....\"_  \n",
    "We find the '=' character, and take everything to the right of this as the log-marginal likelihood value."
   ]
  },
  {
   "cell_type": "code",
   "execution_count": 96,
   "id": "2c82cf99",
   "metadata": {},
   "outputs": [],
   "source": [
    "lml = np.zeros((len(edge_types), len(geometries), n_subjects, len(tasks)))\n",
    "si, ti = 0, 0 \n",
    "for ei, et in enumerate(edge_types):\n",
    "    for gi, geo in enumerate(geometries):\n",
    "        filename = os.path.join(folder, f\"{et}_{geo}.txt\")\n",
    "        with open(filename) as lml_txt:\n",
    "            for li, line in enumerate(lml_txt):\n",
    "                if line != '\\n':\n",
    "                    lml_val = float(line.split('=')[1]) \n",
    "                    lml[ei, gi, si, ti] = lml_val\n",
    "                    ti = (ti+1)%len(tasks)\n",
    "                    si = (si + int((ti+1)==len(tasks)))%n_subjects"
   ]
  },
  {
   "cell_type": "code",
   "execution_count": 1,
   "id": "9acf7693",
   "metadata": {},
   "outputs": [],
   "source": [
    "def bayes_factor(lml1, lml2, log=False):\n",
    "    \"\"\"\n",
    "    Calculates the (log-)Bayes factor between lml1 and lml2. \n",
    "    PARAMS:\n",
    "    lml1 : log-marginal likelihood of model 1\n",
    "    lml2 : log-marginal likelihood of model 2\n",
    "    log : whether to calculate the log-Bayes factor\n",
    "    \"\"\"\n",
    "    ## Convert to Decimal to increase the number of bytes per value. \n",
    "    lml1 = Decimal(lml1)\n",
    "    lml2 = Decimal(lml2)\n",
    "    diff = lml1-lml2\n",
    "    return diff if log else np.exp(diff)"
   ]
  },
  {
   "cell_type": "code",
   "execution_count": 109,
   "id": "40fd6a18",
   "metadata": {},
   "outputs": [
    {
     "name": "stdout",
     "output_type": "stream",
     "text": [
      "Binary LSMs: \n",
      "\t euc: -9.43e+06 \n",
      "\t hyp: -9.24e+06 \n",
      "\t logK: 1.88e+5 \n",
      "\t K: 2.33e+81431\n",
      "Continuous LSMs: \n",
      "\t euc: -6.81e+06 \n",
      "\t hyp: -5.97e+06 \n",
      "\t logK: 8.46e+5 \n",
      "\t K: 1.25e+367377\n"
     ]
    }
   ],
   "source": [
    "## Calculate the full marginal log-likelihood \n",
    "bin_euc_lml = np.sum(lml[0,0])\n",
    "bin_hyp_lml = np.sum(lml[0,1])\n",
    "con_euc_lml = np.sum(lml[1,0])\n",
    "con_hyp_lml = np.sum(lml[1,1])\n",
    "\n",
    "K_bin, logK_bin = bayes_factor(bin_hyp_lml, bin_euc_lml), bayes_factor(bin_hyp_lml, bin_euc_lml, log=True)\n",
    "K_con, logK_con = bayes_factor(con_hyp_lml, con_euc_lml), bayes_factor(con_hyp_lml, con_euc_lml, log=True)\n",
    "\n",
    "n = 3\n",
    "print(f\"Binary LSMs: \\n\\t euc: {bin_euc_lml:.{n}g} \\n\\t hyp: {bin_hyp_lml:.{n}g} \\n\\t logK: {logK_bin:.{n}g} \\n\\t K: {K_bin:.{n}g}\")\n",
    "print(f\"Continuous LSMs: \\n\\t euc: {con_euc_lml:.{n}g} \\n\\t hyp: {con_hyp_lml:.{n}g} \\n\\t logK: {logK_con:.{n}g} \\n\\t K: {K_con:.{n}g}\")"
   ]
  }
 ],
 "metadata": {
  "kernelspec": {
   "display_name": "Python 3 (ipykernel)",
   "language": "python",
   "name": "python3"
  },
  "language_info": {
   "codemirror_mode": {
    "name": "ipython",
    "version": 3
   },
   "file_extension": ".py",
   "mimetype": "text/x-python",
   "name": "python",
   "nbconvert_exporter": "python",
   "pygments_lexer": "ipython3",
   "version": "3.7.11"
  }
 },
 "nbformat": 4,
 "nbformat_minor": 5
}
