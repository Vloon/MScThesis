{
 "cells": [
  {
   "cell_type": "markdown",
   "id": "95816ea9",
   "metadata": {},
   "source": [
    "This file creates different labels for the HCP 100 unrelated subjects dataset. "
   ]
  },
  {
   "cell_type": "code",
   "execution_count": 1,
   "id": "0d8876fd",
   "metadata": {},
   "outputs": [],
   "source": [
    "import numpy as np\n",
    "import pandas as pd"
   ]
  },
  {
   "cell_type": "code",
   "execution_count": 2,
   "id": "b5779548",
   "metadata": {},
   "outputs": [],
   "source": [
    "excel_loc = 'pretty_labels.xlsx'\n",
    "df = pd.read_excel(excel_loc)"
   ]
  },
  {
   "cell_type": "code",
   "execution_count": 3,
   "id": "814d43c6",
   "metadata": {},
   "outputs": [],
   "source": [
    "df['Label'] = [l.strip() for l in df['Label']]\n",
    "df['Name'] = [n.strip() for n in df['Name']]"
   ]
  },
  {
   "cell_type": "code",
   "execution_count": 4,
   "id": "73e547ba",
   "metadata": {},
   "outputs": [],
   "source": [
    "data = np.load('labels.npz')\n",
    "lst = data.files\n",
    "labels = data[lst[0]]"
   ]
  },
  {
   "cell_type": "code",
   "execution_count": 5,
   "id": "6bece2a7",
   "metadata": {},
   "outputs": [],
   "source": [
    "prettylabels = []\n",
    "for i, label in enumerate(labels):\n",
    "    full_prettylabel = df.loc[df['Label']==label, 'Name'].iloc[0]\n",
    "    hemisphere = full_prettylabel.split(' ', 1)[0]\n",
    "    prettylabel = full_prettylabel.split(' ', 1)[1]\n",
    "    prettylabels.append((hemisphere, prettylabel, label))"
   ]
  },
  {
   "cell_type": "code",
   "execution_count": 6,
   "id": "11fe9d81",
   "metadata": {},
   "outputs": [],
   "source": [
    "savefile = 'prettylabels.npz'\n",
    "np.savez_compressed(savefile, labels=prettylabels)"
   ]
  },
  {
   "cell_type": "code",
   "execution_count": 7,
   "id": "56c092bb",
   "metadata": {},
   "outputs": [],
   "source": [
    "lobelabels = []\n",
    "for i, label in enumerate(labels):\n",
    "    full_prettylabel = df.loc[df['Label']==label, 'Name'].iloc[0]\n",
    "    hemisphere = full_prettylabel.split(' ', 1)[0]\n",
    "    lobelabel = df.loc[df['Label']==label, 'Lobe'].iloc[0]\n",
    "    lobelabels.append((hemisphere, lobelabel, label))"
   ]
  },
  {
   "cell_type": "code",
   "execution_count": 8,
   "id": "6180399c",
   "metadata": {},
   "outputs": [],
   "source": [
    "savefile = 'lobelabels.npz'\n",
    "np.savez_compressed(savefile, labels=lobelabels)"
   ]
  },
  {
   "cell_type": "code",
   "execution_count": 9,
   "id": "551031de",
   "metadata": {},
   "outputs": [],
   "source": [
    "auditorylabels = []\n",
    "for i, label in enumerate(labels):\n",
    "    full_prettylabel = df.loc[df['Label']==label, 'Name'].iloc[0]\n",
    "    hemisphere = full_prettylabel.split(' ', 1)[0]\n",
    "    auditorylabel = df.loc[df['Label']==label, 'Auditory task'].iloc[0]\n",
    "    auditorylabels.append((hemisphere, auditorylabel, label))"
   ]
  },
  {
   "cell_type": "code",
   "execution_count": 10,
   "id": "6ed8f776",
   "metadata": {},
   "outputs": [],
   "source": [
    "savefile = 'auditorylabels.npz'\n",
    "np.savez_compressed(savefile, labels=auditorylabels)"
   ]
  },
  {
   "cell_type": "code",
   "execution_count": 11,
   "id": "6c999ec0",
   "metadata": {},
   "outputs": [
    {
     "name": "stdout",
     "output_type": "stream",
     "text": [
      "[['Left' 'nan' 'ctx_lh_G_and_S_frontomargin']\n",
      " ['Left' 'nan' 'ctx_lh_G_and_S_occipital_inf']\n",
      " ['Left' 'nan' 'ctx_lh_G_and_S_paracentral']\n",
      " ['Left' 'nan' 'ctx_lh_G_and_S_subcentral']\n",
      " ['Left' 'nan' 'ctx_lh_G_and_S_transv_frontopol']\n",
      " ['Left' 'nan' 'ctx_lh_G_and_S_cingul-Ant']\n",
      " ['Left' 'nan' 'ctx_lh_G_and_S_cingul-Mid-Ant']\n",
      " ['Left' 'nan' 'ctx_lh_G_and_S_cingul-Mid-Post']\n",
      " ['Left' 'nan' 'ctx_lh_G_cingul-Post-dorsal']\n",
      " ['Left' 'nan' 'ctx_lh_G_cingul-Post-ventral']\n",
      " ['Left' 'nan' 'ctx_lh_G_cuneus']\n",
      " ['Left' \"Broca's area\" 'ctx_lh_G_front_inf-Opercular']\n",
      " ['Left' 'nan' 'ctx_lh_G_front_inf-Orbital']\n",
      " ['Left' \"Broca's area\" 'ctx_lh_G_front_inf-Triangul']\n",
      " ['Left' 'nan' 'ctx_lh_G_front_middle']\n",
      " ['Left' 'nan' 'ctx_lh_G_front_sup']\n",
      " ['Left' 'Insular cortex' 'ctx_lh_G_Ins_lg_and_S_cent_ins']\n",
      " ['Left' 'Insular cortex' 'ctx_lh_G_insular_short']\n",
      " ['Left' 'nan' 'ctx_lh_G_occipital_middle']\n",
      " ['Left' 'nan' 'ctx_lh_G_occipital_sup']\n",
      " ['Left' 'nan' 'ctx_lh_G_oc-temp_lat-fusifor']\n",
      " ['Left' 'nan' 'ctx_lh_G_oc-temp_med-Lingual']\n",
      " ['Left' 'nan' 'ctx_lh_G_oc-temp_med-Parahip']\n",
      " ['Left' 'nan' 'ctx_lh_G_orbital']\n",
      " ['Left' 'nan' 'ctx_lh_G_pariet_inf-Angular']\n",
      " ['Left' 'nan' 'ctx_lh_G_pariet_inf-Supramar']\n",
      " ['Left' 'nan' 'ctx_lh_G_parietal_sup']\n",
      " ['Left' 'nan' 'ctx_lh_G_postcentral']\n",
      " ['Left' 'nan' 'ctx_lh_G_precentral']\n",
      " ['Left' 'nan' 'ctx_lh_G_precuneus']\n",
      " ['Left' 'nan' 'ctx_lh_G_rectus']\n",
      " ['Left' 'nan' 'ctx_lh_G_subcallosal']\n",
      " ['Left' \"Herschl's gyrus\" 'ctx_lh_G_temp_sup-G_T_transv']\n",
      " ['Left' \"Wernicke's area\" 'ctx_lh_G_temp_sup-Lateral']\n",
      " ['Left' 'Planum polare' 'ctx_lh_G_temp_sup-Plan_polar']\n",
      " ['Left' 'Planum temporale' 'ctx_lh_G_temp_sup-Plan_tempo']\n",
      " ['Left' 'nan' 'ctx_lh_G_temporal_inf']\n",
      " ['Left' 'nan' 'ctx_lh_G_temporal_middle']\n",
      " ['Left' 'nan' 'ctx_lh_Lat_Fis-ant-Horizont']\n",
      " ['Left' 'nan' 'ctx_lh_Lat_Fis-ant-Vertical']\n",
      " ['Left' 'nan' 'ctx_lh_Lat_Fis-post']\n",
      " ['Left' 'nan' 'ctx_lh_Pole_occipital']\n",
      " ['Left' 'nan' 'ctx_lh_Pole_temporal']\n",
      " ['Left' 'nan' 'ctx_lh_S_calcarine']\n",
      " ['Left' 'nan' 'ctx_lh_S_central']\n",
      " ['Left' 'nan' 'ctx_lh_S_cingul-Marginalis']\n",
      " ['Left' 'Insular cortex' 'ctx_lh_S_circular_insula_ant']\n",
      " ['Left' 'Insular cortex' 'ctx_lh_S_circular_insula_inf']\n",
      " ['Left' 'Insular cortex' 'ctx_lh_S_circular_insula_sup']\n",
      " ['Left' 'nan' 'ctx_lh_S_collat_transv_ant']\n",
      " ['Left' 'nan' 'ctx_lh_S_collat_transv_post']\n",
      " ['Left' 'nan' 'ctx_lh_S_front_inf']\n",
      " ['Left' 'nan' 'ctx_lh_S_front_middle']\n",
      " ['Left' 'nan' 'ctx_lh_S_front_sup']\n",
      " ['Left' 'nan' 'ctx_lh_S_interm_prim-Jensen']\n",
      " ['Left' 'nan' 'ctx_lh_S_intrapariet_and_P_trans']\n",
      " ['Left' 'nan' 'ctx_lh_S_oc_middle_and_Lunatus']\n",
      " ['Left' 'nan' 'ctx_lh_S_oc_sup_and_transversal']\n",
      " ['Left' 'nan' 'ctx_lh_S_occipital_ant']\n",
      " ['Left' 'nan' 'ctx_lh_S_oc-temp_lat']\n",
      " ['Left' 'nan' 'ctx_lh_S_oc-temp_med_and_Lingual']\n",
      " ['Left' 'nan' 'ctx_lh_S_orbital_lateral']\n",
      " ['Left' 'nan' 'ctx_lh_S_orbital_med-olfact']\n",
      " ['Left' 'nan' 'ctx_lh_S_orbital-H_Shaped']\n",
      " ['Left' 'nan' 'ctx_lh_S_parieto_occipital']\n",
      " ['Left' 'nan' 'ctx_lh_S_pericallosal']\n",
      " ['Left' 'nan' 'ctx_lh_S_postcentral']\n",
      " ['Left' 'nan' 'ctx_lh_S_precentral-inf-part']\n",
      " ['Left' 'nan' 'ctx_lh_S_precentral-sup-part']\n",
      " ['Left' 'nan' 'ctx_lh_S_suborbital']\n",
      " ['Left' 'nan' 'ctx_lh_S_subparietal']\n",
      " ['Left' 'nan' 'ctx_lh_S_temporal_inf']\n",
      " ['Left' 'nan' 'ctx_lh_S_temporal_sup']\n",
      " ['Left' 'nan' 'ctx_lh_S_temporal_transverse']\n",
      " ['Right' 'nan' 'ctx_rh_G_and_S_frontomargin']\n",
      " ['Right' 'nan' 'ctx_rh_G_and_S_occipital_inf']\n",
      " ['Right' 'nan' 'ctx_rh_G_and_S_paracentral']\n",
      " ['Right' 'nan' 'ctx_rh_G_and_S_subcentral']\n",
      " ['Right' 'nan' 'ctx_rh_G_and_S_transv_frontopol']\n",
      " ['Right' 'nan' 'ctx_rh_G_and_S_cingul-Ant']\n",
      " ['Right' 'nan' 'ctx_rh_G_and_S_cingul-Mid-Ant']\n",
      " ['Right' 'nan' 'ctx_rh_G_and_S_cingul-Mid-Post']\n",
      " ['Right' 'nan' 'ctx_rh_G_cingul-Post-dorsal']\n",
      " ['Right' 'nan' 'ctx_rh_G_cingul-Post-ventral']\n",
      " ['Right' 'nan' 'ctx_rh_G_cuneus']\n",
      " ['Right' 'nan' 'ctx_rh_G_front_inf-Opercular']\n",
      " ['Right' 'nan' 'ctx_rh_G_front_inf-Orbital']\n",
      " ['Right' 'nan' 'ctx_rh_G_front_inf-Triangul']\n",
      " ['Right' 'nan' 'ctx_rh_G_front_middle']\n",
      " ['Right' 'nan' 'ctx_rh_G_front_sup']\n",
      " ['Right' 'nan' 'ctx_rh_G_Ins_lg_and_S_cent_ins']\n",
      " ['Right' 'nan' 'ctx_rh_G_insular_short']\n",
      " ['Right' 'nan' 'ctx_rh_G_occipital_middle']\n",
      " ['Right' 'nan' 'ctx_rh_G_occipital_sup']\n",
      " ['Right' 'nan' 'ctx_rh_G_oc-temp_lat-fusifor']\n",
      " ['Right' 'nan' 'ctx_rh_G_oc-temp_med-Lingual']\n",
      " ['Right' 'nan' 'ctx_rh_G_oc-temp_med-Parahip']\n",
      " ['Right' 'nan' 'ctx_rh_G_orbital']\n",
      " ['Right' 'nan' 'ctx_rh_G_pariet_inf-Angular']\n",
      " ['Right' 'nan' 'ctx_rh_G_pariet_inf-Supramar']\n",
      " ['Right' 'nan' 'ctx_rh_G_parietal_sup']\n",
      " ['Right' 'nan' 'ctx_rh_G_postcentral']\n",
      " ['Right' 'nan' 'ctx_rh_G_precentral']\n",
      " ['Right' 'nan' 'ctx_rh_G_precuneus']\n",
      " ['Right' 'nan' 'ctx_rh_G_rectus']\n",
      " ['Right' 'nan' 'ctx_rh_G_subcallosal']\n",
      " ['Right' 'nan' 'ctx_rh_G_temp_sup-G_T_transv']\n",
      " ['Right' 'nan' 'ctx_rh_G_temp_sup-Lateral']\n",
      " ['Right' 'nan' 'ctx_rh_G_temp_sup-Plan_polar']\n",
      " ['Right' 'nan' 'ctx_rh_G_temp_sup-Plan_tempo']\n",
      " ['Right' 'nan' 'ctx_rh_G_temporal_inf']\n",
      " ['Right' 'nan' 'ctx_rh_G_temporal_middle']\n",
      " ['Right' 'nan' 'ctx_rh_Lat_Fis-ant-Horizont']\n",
      " ['Right' 'nan' 'ctx_rh_Lat_Fis-ant-Vertical']\n",
      " ['Right' 'nan' 'ctx_rh_Lat_Fis-post']\n",
      " ['Right' 'nan' 'ctx_rh_Pole_occipital']\n",
      " ['Right' 'nan' 'ctx_rh_Pole_temporal']\n",
      " ['Right' 'nan' 'ctx_rh_S_calcarine']\n",
      " ['Right' 'nan' 'ctx_rh_S_central']\n",
      " ['Right' 'nan' 'ctx_rh_S_cingul-Marginalis']\n",
      " ['Right' 'nan' 'ctx_rh_S_circular_insula_ant']\n",
      " ['Right' 'nan' 'ctx_rh_S_circular_insula_inf']\n",
      " ['Right' 'nan' 'ctx_rh_S_circular_insula_sup']\n",
      " ['Right' 'nan' 'ctx_rh_S_collat_transv_ant']\n",
      " ['Right' 'nan' 'ctx_rh_S_collat_transv_post']\n",
      " ['Right' 'nan' 'ctx_rh_S_front_inf']\n",
      " ['Right' 'nan' 'ctx_rh_S_front_middle']\n",
      " ['Right' 'nan' 'ctx_rh_S_front_sup']\n",
      " ['Right' 'nan' 'ctx_rh_S_interm_prim-Jensen']\n",
      " ['Right' 'nan' 'ctx_rh_S_intrapariet_and_P_trans']\n",
      " ['Right' 'nan' 'ctx_rh_S_oc_middle_and_Lunatus']\n",
      " ['Right' 'nan' 'ctx_rh_S_oc_sup_and_transversal']\n",
      " ['Right' 'nan' 'ctx_rh_S_occipital_ant']\n",
      " ['Right' 'nan' 'ctx_rh_S_oc-temp_lat']\n",
      " ['Right' 'nan' 'ctx_rh_S_oc-temp_med_and_Lingual']\n",
      " ['Right' 'nan' 'ctx_rh_S_orbital_lateral']\n",
      " ['Right' 'nan' 'ctx_rh_S_orbital_med-olfact']\n",
      " ['Right' 'nan' 'ctx_rh_S_orbital-H_Shaped']\n",
      " ['Right' 'nan' 'ctx_rh_S_parieto_occipital']\n",
      " ['Right' 'nan' 'ctx_rh_S_pericallosal']\n",
      " ['Right' 'nan' 'ctx_rh_S_postcentral']\n",
      " ['Right' 'nan' 'ctx_rh_S_precentral-inf-part']\n",
      " ['Right' 'nan' 'ctx_rh_S_precentral-sup-part']\n",
      " ['Right' 'nan' 'ctx_rh_S_suborbital']\n",
      " ['Right' 'nan' 'ctx_rh_S_subparietal']\n",
      " ['Right' 'nan' 'ctx_rh_S_temporal_inf']\n",
      " ['Right' 'nan' 'ctx_rh_S_temporal_sup']\n",
      " ['Right' 'nan' 'ctx_rh_S_temporal_transverse']\n",
      " ['Left' 'nan' 'Left-Thalamus']\n",
      " ['Left' 'nan' 'Left-Caudate']\n",
      " ['Left' 'nan' 'Left-Putamen']\n",
      " ['Left' 'nan' 'Left-Pallidum']\n",
      " ['Left' 'nan' 'Left-Hippocampus']\n",
      " ['Left' 'nan' 'Left-Amygdala']\n",
      " ['Left' 'nan' 'Left-Accumbens']\n",
      " ['Right' 'nan' 'Right-Thalamus']\n",
      " ['Right' 'nan' 'Right-Caudate']\n",
      " ['Right' 'nan' 'Right-Putamen']\n",
      " ['Right' 'nan' 'Right-Pallidum']\n",
      " ['Right' 'nan' 'Right-Hippocampus']\n",
      " ['Right' 'nan' 'Right-Amygdala']\n",
      " ['Right' 'nan' 'Right-Accumbens']\n",
      " ['Left' 'nan' 'Left-Cerebellum-Cortex']\n",
      " ['Right' 'nan' 'Right-Cerebellum-Cortex']]\n"
     ]
    }
   ],
   "source": [
    "data = np.load('auditorylabels.npz')\n",
    "print(data[data.files[0]])"
   ]
  }
 ],
 "metadata": {
  "kernelspec": {
   "display_name": "Python 3 (ipykernel)",
   "language": "python",
   "name": "python3"
  },
  "language_info": {
   "codemirror_mode": {
    "name": "ipython",
    "version": 3
   },
   "file_extension": ".py",
   "mimetype": "text/x-python",
   "name": "python",
   "nbconvert_exporter": "python",
   "pygments_lexer": "ipython3",
   "version": "3.7.11"
  }
 },
 "nbformat": 4,
 "nbformat_minor": 5
}
